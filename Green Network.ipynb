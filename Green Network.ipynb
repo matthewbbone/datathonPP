{
 "cells": [
  {
   "cell_type": "code",
   "execution_count": 1,
   "metadata": {},
   "outputs": [],
   "source": [
    "import pandas as pd\n",
    "import numpy as np\n",
    "import requests as rq\n",
    "import json\n",
    "import networkx as nx\n",
    "import matplotlib.pyplot as plt"
   ]
  },
  {
   "cell_type": "code",
   "execution_count": 2,
   "metadata": {},
   "outputs": [],
   "source": [
    "industry_map = {\n",
    "    'Manufacture of fabricated metal products, except machinery and equipment': 'fab_metal_manuf',\n",
    "    'Activities of membership organisations': 'member_activity', \n",
    "    'Employment activities': 'employ_activity',\n",
    "    'Human health activities': 'health_activity',\n",
    "    'Water collection, treatment and supply': 'water_treatment',\n",
    "    'Office administrative, office support and other business support activities': 'office_admin',\n",
    "    'Manufacture of food products': 'food_manuf', \n",
    "    'Accommodation': 'accommodation',\n",
    "    'Other professional, scientific and technical activities': 'other_professional',\n",
    "    'Crop and animal production, hunting and related service activities': 'animal_product',\n",
    "    'Legal and accounting activities': 'legal_accounting',\n",
    "    'Insurance, reinsurance and pension funding, except compulsory social security': 'insurance',\n",
    "    'Public administration and defence; compulsory social security': 'public_service',\n",
    "    'Information service activities': 'info_tech',\n",
    "    'Wholesale and retail trade and repair of motor vehicles and motorcycles': 'vehicle_services',\n",
    "    'Residential care activities': 'resident_care',\n",
    "    'Libraries, archives, museums and other cultural activities': 'cultural_services',\n",
    "    'Travel agency, tour operator and other reservation service and related activities': 'travel_services',\n",
    "    'Education': 'education',\n",
    "    'Retail trade, except of motor vehicles and motorcycles': 'retail',\n",
    "    'Architectural and engineering activities; technical testing and analysis': 'architect_engineer',\n",
    "    'Computer programming, consultancy and related activities': 'computer_programming',\n",
    "    'Real estate activities': 'real_estate',\n",
    "    'Financial service activities, except insurance and pension funding': 'financial_services',\n",
    "    'Social work activities without accommodation': 'social_work',\n",
    "    'Food and beverage service activities': 'food_service',\n",
    "    'Construction of buildings': 'building_construction',\n",
    "    'Activities of head offices; management consultancy activities': 'management',\n",
    "    'Advertising and market research': 'advertising',\n",
    "    'Sports activities and amusement and recreation activities': 'sports_recreation',\n",
    "    'Warehousing and support activities for transportation': 'warehousing_transport',\n",
    "    'Manufacture of other non-metallic mineral products': 'mineral_manuf',\n",
    "    'Rental and leasing activities': 'rental_activity',\n",
    "    'Specialised construction activities': 'special_construction', \n",
    "    'Publishing activities': 'publishing',\n",
    "    'Wholesale trade, except of motor vehicles and motorcycles': 'wholesale_trade',\n",
    "    'Manufacture of computer, electronic and optical products': 'electronic_manuf',\n",
    "    'Services to buildings and landscape activities': 'building_services',\n",
    "    'Other personal service activities': 'other_services',\n",
    "    'Postal and courier activities': 'postal',\n",
    "    'Electricity, gas, steam and air conditioning supply': 'utilities_supply',\n",
    "    'Security and investigation activities': 'security',\n",
    "    'Waste collection, treatment and disposal activities; materials recovery': 'waste_management',\n",
    "    'Undifferentiated goods- and services-producing activities of private households for own use': 'consumer_goods',\n",
    "    'Manufacture of chemicals and chemical products': 'chemical_manuf',\n",
    "    'Manufacture of textiles': 'textile_manuf',\n",
    "    'Activities auxiliary to financial services and insurance activities': 'financial_related',\n",
    "    'Civil engineering': 'civil_engineer', \n",
    "    'Telecommunications': 'telecom',\n",
    "    'Manufacture of electrical equipment': 'elec_equip_manuf',\n",
    "    'Repair of computers and personal and household goods': 'goods_repair',\n",
    "    'Manufacture of basic pharmaceutical products and pharmaceutical preparations': 'pharma_manuf',\n",
    "    'Remediation activities and other waste management services': 'waste_remediation',\n",
    "    'Repair and installation of machinery and equipment': 'installation',\n",
    "    'Manufacture of machinery and equipment nec': 'machine_manuf',\n",
    "    'Manufacture of leather and related products': 'leather_manuf',\n",
    "    'Scientific research and development': 'science_rd', \n",
    "    'Forestry and logging': 'forestry',\n",
    "    'Other manufacturing': 'other_manuf', \n",
    "    'Manufacture of other transport equipment': 'transport_manuf',\n",
    "    'Programming and broadcasting activities': 'broadcasting', \n",
    "    'Air transport': 'air_transport',\n",
    "    'Motion picture, video and television programme production, sound recording and music publishing activities': 'media_production',\n",
    "    'Creative, arts and entertainment activities': 'entertainment_activity',\n",
    "    'Extraction of crude petroleum and natural gas': 'oil_gas_manuf',\n",
    "    'Manufacture of beverages': 'beverage_manuf',\n",
    "    'Manufacture of wood and of products of wood and cork, except furniture; manufacture of articles of straw and plaiting materials': 'wood_manuf',\n",
    "    'Manufacture of motor vehicles, trailers and semi-trailers': 'vehicle_manuf',\n",
    "    'Manufacture of furniture': 'furniture_manuf',\n",
    "    'Land transport and transport via pipelines': 'pipe_transport',\n",
    "    'Activities of households as employers of domestic personnel': 'domestic',\n",
    "    'Printing and reproduction of recorded media': 'media_reproduction',\n",
    "    'Manufacture of wearing apparel': 'clothes_manuf', \n",
    "    'Veterinary activities': 'veterinary_activity',\n",
    "    'Activities of extraterritorial organisations and bodies': 'foreign_service',\n",
    "    'Other mining and quarrying': 'other_mining', \n",
    "    'Water transport': 'water_transport',\n",
    "    'Manufacture of basic metals': 'basic_metal_manuf', \n",
    "    'Gambling and betting activities': 'gambling',\n",
    "    'Mining of coal and lignite': 'coal_mining', \n",
    "    'Fishing and aquaculture': 'fishing',\n",
    "    'Manufacture of paper and paper products': 'paper_manuf',\n",
    "    'Manufacture of rubber and plastic products': 'plastic_manuf',\n",
    "    'Mining support service activities': 'mining_services',\n",
    "    'Manufacture of coke and refined petroleum products': 'petrol_manuf',\n",
    "    'Sewerage': 'sewerage',\n",
    "    'Mining of metal ores': 'metal_mining',\n",
    "    'nan': ''\n",
    "}\n",
    "main_df = pd.read_csv('main.csv')\n",
    "main_df['INDUSTRY'] = main_df['INDUSTRY'].map(lambda x: '' if pd.isna(x) else industry_map[x])"
   ]
  },
  {
   "attachments": {},
   "cell_type": "markdown",
   "metadata": {},
   "source": [
    "# Creating an Occupation Network by Specialized Skill Overlap"
   ]
  },
  {
   "cell_type": "code",
   "execution_count": 3,
   "metadata": {},
   "outputs": [],
   "source": [
    "green_df = pd.read_csv('greens.csv')\n",
    "\n",
    "code_map = {}\n",
    "\n",
    "for code in green_df['O*NET-SOC Code']:\n",
    "\n",
    "    res = rq.get(f'http://api.lmiforall.org.uk/api/v1/o-net/onet2soc?onetCodes={code}')\n",
    "    js = json.loads(res.content)\n",
    "    \n",
    "    if len(js) > 0: code_map[code] = code_map[code] = [x['soc'] for x in js[0]['socCodes']]\n",
    "\n",
    "green_soc = np.unique([item for sublist in code_map.values() for item in sublist])\n",
    "main_df['green'] = main_df['SOC_4'].map(lambda x: x in green_soc)"
   ]
  },
  {
   "cell_type": "code",
   "execution_count": 4,
   "metadata": {},
   "outputs": [],
   "source": [
    "sub_df = main_df[['SOC_4_NAME', 'SPECIALIZED_SKILLS_NAME', 'green']].copy()\n",
    "sub_df['SPECIALIZED_SKILLS_NAME'] = sub_df['SPECIALIZED_SKILLS_NAME'] \\\n",
    "    .map(lambda x: '' if x is None else [y.strip() for y in x.replace('\"', '').replace(\",\",\"\").split('\\n')[1:-1]])\n",
    "\n",
    "long_df = sub_df.explode('SPECIALIZED_SKILLS_NAME').groupby(['SOC_4_NAME', 'SPECIALIZED_SKILLS_NAME']).agg({'SPECIALIZED_SKILLS_NAME': 'count'})\n",
    "\n",
    "clean_df = pd.DataFrame({\n",
    "    'occupation': [x[0] for x in list(long_df.index)],\n",
    "    'skill': [x[1] for x in list(long_df.index)],\n",
    "    'count': list(long_df['SPECIALIZED_SKILLS_NAME'])\n",
    "})\n",
    "\n",
    "pivoted_df = clean_df.pivot(index='occupation', columns='skill', values='count').fillna(0)\n",
    "occupations = pivoted_df.index\n",
    "pivoted_df.reset_index(inplace=True, drop=True)\n",
    "\n",
    "totals = clean_df['occupation'].value_counts()\n",
    "\n",
    "A = np.zeros((len(pivoted_df), len(pivoted_df)))\n",
    "for i, row in pivoted_df.iterrows():\n",
    "    for j, col in pivoted_df.iterrows():\n",
    "\n",
    "        if i != j:\n",
    "\n",
    "            i_skills = set(np.where(row.values > 0)[0])\n",
    "            i_total = totals[occupations[i]]\n",
    "            j_skills = set(np.where(col.values > 0)[0])\n",
    "            j_total = totals[occupations[j]]\n",
    "            compare_list = list(i_skills.union(j_skills))\n",
    "\n",
    "            weight = 0\n",
    "            \n",
    "            for index in compare_list:\n",
    "                # if for each occupation, 10% of the postings have this skill, add it to the adjacency matrix, also only care if > 100 occupations\n",
    "                if row[index] > i_total / 10 and \\\n",
    "                    col[index] > j_total / 10 and \\\n",
    "                    i_total > 100 and \\\n",
    "                    j_total > 100: \n",
    "                    # this takes the average ratio of postings that include this job - a proxy for importance for each job\n",
    "                    weight = weight + (row[index] / i_total + col[index] / j_total) / 2\n",
    "                    \n",
    "\n",
    "            A[i,j] = weight"
   ]
  },
  {
   "cell_type": "code",
   "execution_count": 5,
   "metadata": {},
   "outputs": [],
   "source": [
    "edges = []\n",
    "std = np.std(A)\n",
    "occ = [o.replace(',','').lower() for o in list(occupations)]\n",
    "for i in range(len(A)):\n",
    "    for j in range(len(A)):\n",
    "        if A[i,j] > 0:\n",
    "            edges.append((occ[i],occ[j],A[i,j]))\n",
    "\n",
    "G = nx.Graph()\n",
    "G.add_nodes_from(occ)\n",
    "G.add_weighted_edges_from(edges)"
   ]
  },
  {
   "cell_type": "code",
   "execution_count": 6,
   "metadata": {},
   "outputs": [
    {
     "data": {
      "image/png": "[encoded data removed]",
      "text/plain": [
       "<Figure size 640x480 with 1 Axes>"
      ]
     },
     "metadata": {},
     "output_type": "display_data"
    }
   ],
   "source": [
    "nx.draw(G)"
   ]
  },
  {
   "cell_type": "code",
   "execution_count": 7,
   "metadata": {},
   "outputs": [],
   "source": [
    "df = pd.DataFrame(nx.adjacency_matrix(G).todense())\n",
    "df.index = occ\n",
    "df.columns = occ"
   ]
  },
  {
   "cell_type": "code",
   "execution_count": 8,
   "metadata": {},
   "outputs": [],
   "source": [
    "df.to_csv('adjacency.csv')"
   ]
  },
  {
   "cell_type": "code",
   "execution_count": 9,
   "metadata": {},
   "outputs": [
    {
     "name": "stdout",
     "output_type": "stream",
     "text": [
      "Connected component is 67.48% of the occupations\n"
     ]
    }
   ],
   "source": [
    "print(f\"Connected component is {len(max(nx.connected_components(G), key=len)) / len(G):.2%} of the occupations\")"
   ]
  },
  {
   "attachments": {},
   "cell_type": "markdown",
   "metadata": {},
   "source": [
    "## Create Node Data"
   ]
  },
  {
   "cell_type": "code",
   "execution_count": 10,
   "metadata": {},
   "outputs": [],
   "source": [
    "node_df = main_df.groupby('SOC_4_NAME').agg({\n",
    "    'ID': 'count',\n",
    "    'green': lambda x: np.sum(x) > 0,\n",
    "    'INDUSTRY': lambda x: max(set(x).difference(set({'Employment activities', ''})), key=list(x).count)\n",
    "})\n",
    "\n",
    "node_df = pd.DataFrame({\n",
    "    'Id': [o.replace(',','').lower() for o in list(node_df.index)],\n",
    "    'Label': [o.replace(',','').lower() if node_df['ID'].values[i] > 1000 else '' for i, o in enumerate(list(node_df.index))],\n",
    "    'count': node_df['ID'].values,\n",
    "    'green': node_df['green'].values,\n",
    "    'industry': [i if type(i) is str else '' for i in node_df['INDUSTRY']]\n",
    "})\n",
    "\n",
    "node_df.to_csv('node.csv', index=False)"
   ]
  },
  {
   "cell_type": "code",
   "execution_count": 11,
   "metadata": {},
   "outputs": [],
   "source": [
    "edge_df = pd.DataFrame([{'Source': e[0], 'Target': e[1], 'Weight': e[2]} for e in edges])\n",
    "edge_df.to_csv('edge.csv', index=False)"
   ]
  },
  {
   "attachments": {},
   "cell_type": "markdown",
   "metadata": {},
   "source": [
    "## Clustering"
   ]
  },
  {
   "cell_type": "code",
   "execution_count": 12,
   "metadata": {},
   "outputs": [],
   "source": [
    "largest_component = max(nx.connected_components(G), key=len)\n",
    "G2 = G.subgraph(largest_component)"
   ]
  },
  {
   "cell_type": "code",
   "execution_count": 13,
   "metadata": {},
   "outputs": [],
   "source": [
    "comms = nx.community.asyn_fluidc(G2, 3, 100)\n",
    "\n",
    "comm_map = {}\n",
    "for i, c in enumerate(comms):\n",
    "    for occ in c:\n",
    "        comm_map[occ] = f\"comm{i}\""
   ]
  },
  {
   "cell_type": "code",
   "execution_count": 14,
   "metadata": {},
   "outputs": [],
   "source": [
    "node_df['community'] = node_df['Id'].map(lambda x: comm_map[x] if x in comm_map.keys() else '')\n",
    "node_df.to_csv('node.csv', index=False)"
   ]
  },
  {
   "attachments": {},
   "cell_type": "markdown",
   "metadata": {},
   "source": [
    "## Peripheral Green Skills"
   ]
  },
  {
   "cell_type": "code",
   "execution_count": 29,
   "metadata": {},
   "outputs": [
    {
     "name": "stdout",
     "output_type": "stream",
     "text": [
      "100614\n"
     ]
    }
   ],
   "source": [
    "target_df = node_df[node_df['green']].reset_index().copy()\n",
    "target_df = target_df[target_df['community'] == 'comm1']\n",
    "target_occs = target_df['Id'].values\n",
    "\n",
    "clean_df = main_df[main_df['SOC_4_NAME'].map(lambda x: x.replace(',','').lower() in list(target_occs) + [\n",
    "    'road construction operatives', 'civil engineers', 'construction and building trades supervisors', 'production managers and directors in construction'\n",
    "])]\n",
    "print(len(clean_df))"
   ]
  },
  {
   "cell_type": "code",
   "execution_count": 16,
   "metadata": {},
   "outputs": [
    {
     "name": "stdout",
     "output_type": "stream",
     "text": [
      "946\n"
     ]
    }
   ],
   "source": [
    "dirty_df = main_df[main_df['INDUSTRY'].map(lambda x: x in [\n",
    "    'oil_gas_manuf', \n",
    "    'coal_mining',\n",
    "    'petrol_manuf'\n",
    "])]\n",
    "print(len(dirty_df))"
   ]
  },
  {
   "cell_type": "code",
   "execution_count": 30,
   "metadata": {},
   "outputs": [],
   "source": [
    "def explodeList(df, measure, group, specify):\n",
    "\n",
    "    df = df[[group, measure]].copy()\n",
    "    df = df[df[group] == specify]\n",
    "\n",
    "    df['value'] = df[measure].map(lambda x: '' if x is None else [y.strip() for y in x.replace('\"', '').replace(\",\",\"\").split('\\n')[1:-1]])\n",
    "    df['data_type'] = [measure for i in range(len(df))]\n",
    "\n",
    "    return df[[group, 'data_type', 'value']].explode('value')\n",
    "\n",
    "clean_skill_df = pd.DataFrame(columns=[\"green\", 'data_type', 'value'])\n",
    "\n",
    "def extract_skills(df):\n",
    "\n",
    "    df2 = pd.DataFrame(columns=[\"green\", 'data_type', 'value'])\n",
    "\n",
    "    for i in [True, False]: \n",
    "\n",
    "        common = explodeList(df, 'COMMON_SKILLS_NAME', 'green', i)\n",
    "        special = explodeList(df, 'SPECIALIZED_SKILLS_NAME', 'green', i)\n",
    "        software = explodeList(df, 'SOFTWARE_SKILLS_NAME', 'green', i)\n",
    "        certification = explodeList(df, 'CERTIFICATIONS_NAME', 'green', i)\n",
    "\n",
    "        df2 = pd.concat([df2, common])\n",
    "        df2 = pd.concat([df2, special])\n",
    "        df2 = pd.concat([df2, software])\n",
    "        df2 = pd.concat([df2, certification])\n",
    "\n",
    "    return df2\n"
   ]
  },
  {
   "cell_type": "code",
   "execution_count": 31,
   "metadata": {},
   "outputs": [
    {
     "name": "stderr",
     "output_type": "stream",
     "text": [
      "/var/folders/c5/1ykwfx953hdd7lps3nkt7myr0000gn/T/ipykernel_2102/2550059099.py:25: FutureWarning: In a future version, object-dtype columns with all-bool values will not be included in reductions with bool_only=True. Explicitly cast to bool dtype instead.\n",
      "  df2 = pd.concat([df2, special])\n",
      "/var/folders/c5/1ykwfx953hdd7lps3nkt7myr0000gn/T/ipykernel_2102/2550059099.py:26: FutureWarning: In a future version, object-dtype columns with all-bool values will not be included in reductions with bool_only=True. Explicitly cast to bool dtype instead.\n",
      "  df2 = pd.concat([df2, software])\n",
      "/var/folders/c5/1ykwfx953hdd7lps3nkt7myr0000gn/T/ipykernel_2102/2550059099.py:27: FutureWarning: In a future version, object-dtype columns with all-bool values will not be included in reductions with bool_only=True. Explicitly cast to bool dtype instead.\n",
      "  df2 = pd.concat([df2, certification])\n",
      "/var/folders/c5/1ykwfx953hdd7lps3nkt7myr0000gn/T/ipykernel_2102/2550059099.py:24: FutureWarning: In a future version, object-dtype columns with all-bool values will not be included in reductions with bool_only=True. Explicitly cast to bool dtype instead.\n",
      "  df2 = pd.concat([df2, common])\n",
      "/var/folders/c5/1ykwfx953hdd7lps3nkt7myr0000gn/T/ipykernel_2102/2550059099.py:25: FutureWarning: In a future version, object-dtype columns with all-bool values will not be included in reductions with bool_only=True. Explicitly cast to bool dtype instead.\n",
      "  df2 = pd.concat([df2, special])\n",
      "/var/folders/c5/1ykwfx953hdd7lps3nkt7myr0000gn/T/ipykernel_2102/2550059099.py:26: FutureWarning: In a future version, object-dtype columns with all-bool values will not be included in reductions with bool_only=True. Explicitly cast to bool dtype instead.\n",
      "  df2 = pd.concat([df2, software])\n",
      "/var/folders/c5/1ykwfx953hdd7lps3nkt7myr0000gn/T/ipykernel_2102/2550059099.py:27: FutureWarning: In a future version, object-dtype columns with all-bool values will not be included in reductions with bool_only=True. Explicitly cast to bool dtype instead.\n",
      "  df2 = pd.concat([df2, certification])\n"
     ]
    }
   ],
   "source": [
    "main_skills_df = extract_skills(main_df.copy())"
   ]
  },
  {
   "cell_type": "code",
   "execution_count": 19,
   "metadata": {},
   "outputs": [
    {
     "name": "stderr",
     "output_type": "stream",
     "text": [
      "/var/folders/c5/1ykwfx953hdd7lps3nkt7myr0000gn/T/ipykernel_2102/2550059099.py:25: FutureWarning: In a future version, object-dtype columns with all-bool values will not be included in reductions with bool_only=True. Explicitly cast to bool dtype instead.\n",
      "  df2 = pd.concat([df2, special])\n",
      "/var/folders/c5/1ykwfx953hdd7lps3nkt7myr0000gn/T/ipykernel_2102/2550059099.py:26: FutureWarning: In a future version, object-dtype columns with all-bool values will not be included in reductions with bool_only=True. Explicitly cast to bool dtype instead.\n",
      "  df2 = pd.concat([df2, software])\n",
      "/var/folders/c5/1ykwfx953hdd7lps3nkt7myr0000gn/T/ipykernel_2102/2550059099.py:27: FutureWarning: In a future version, object-dtype columns with all-bool values will not be included in reductions with bool_only=True. Explicitly cast to bool dtype instead.\n",
      "  df2 = pd.concat([df2, certification])\n",
      "/var/folders/c5/1ykwfx953hdd7lps3nkt7myr0000gn/T/ipykernel_2102/2550059099.py:24: FutureWarning: In a future version, object-dtype columns with all-bool values will not be included in reductions with bool_only=True. Explicitly cast to bool dtype instead.\n",
      "  df2 = pd.concat([df2, common])\n",
      "/var/folders/c5/1ykwfx953hdd7lps3nkt7myr0000gn/T/ipykernel_2102/2550059099.py:25: FutureWarning: In a future version, object-dtype columns with all-bool values will not be included in reductions with bool_only=True. Explicitly cast to bool dtype instead.\n",
      "  df2 = pd.concat([df2, special])\n",
      "/var/folders/c5/1ykwfx953hdd7lps3nkt7myr0000gn/T/ipykernel_2102/2550059099.py:26: FutureWarning: In a future version, object-dtype columns with all-bool values will not be included in reductions with bool_only=True. Explicitly cast to bool dtype instead.\n",
      "  df2 = pd.concat([df2, software])\n",
      "/var/folders/c5/1ykwfx953hdd7lps3nkt7myr0000gn/T/ipykernel_2102/2550059099.py:27: FutureWarning: In a future version, object-dtype columns with all-bool values will not be included in reductions with bool_only=True. Explicitly cast to bool dtype instead.\n",
      "  df2 = pd.concat([df2, certification])\n"
     ]
    }
   ],
   "source": [
    "clean_skills_df = extract_skills(clean_df.copy())"
   ]
  },
  {
   "attachments": {},
   "cell_type": "markdown",
   "metadata": {},
   "source": [
    "### Specialized SKills Comparison"
   ]
  },
  {
   "cell_type": "code",
   "execution_count": 34,
   "metadata": {},
   "outputs": [
    {
     "data": {
      "text/plain": [
       "Finance                              67446\n",
       "Marketing                            61846\n",
       "Accounting                           53980\n",
       "Auditing                             51169\n",
       "Key Performance Indicators (KPIs)    39410\n",
       "Agile Methodology                    35200\n",
       "Warehousing                          32725\n",
       "Invoicing                            31380\n",
       "Business Development                 30278\n",
       "Nursing                              25984\n",
       "Name: value, dtype: int64"
      ]
     },
     "execution_count": 34,
     "metadata": {},
     "output_type": "execute_result"
    }
   ],
   "source": [
    "main_skills_df[main_skills_df['data_type'] == 'SPECIALIZED_SKILLS_NAME']['value'].value_counts()[0:10]"
   ]
  },
  {
   "cell_type": "code",
   "execution_count": 35,
   "metadata": {},
   "outputs": [
    {
     "data": {
      "text/plain": [
       "Machinery                   8173\n",
       "Mechanical Engineering      6195\n",
       "Maintenance Engineering     5566\n",
       "Electrical Engineering      5371\n",
       "Warehousing                 4270\n",
       "Forklift Truck              4094\n",
       "Field Service Management    3672\n",
       "Construction                2812\n",
       "Electrical Wiring           2761\n",
       "Housekeeping                2592\n",
       "Name: value, dtype: int64"
      ]
     },
     "execution_count": 35,
     "metadata": {},
     "output_type": "execute_result"
    }
   ],
   "source": [
    "clean_skills_df[clean_skills_df['data_type'] == 'SPECIALIZED_SKILLS_NAME']['value'].value_counts()[0:10]"
   ]
  },
  {
   "cell_type": "markdown",
   "metadata": {},
   "source": [
    "### Certification Comparison"
   ]
  },
  {
   "cell_type": "code",
   "execution_count": 38,
   "metadata": {},
   "outputs": [
    {
     "data": {
      "text/plain": [
       "Association Of Chartered Certified Accountants                       17082\n",
       "Registered Nurse (RN)                                                16301\n",
       "Chartered Institute Of Management Accountants (CIMA)                 10659\n",
       "CSCS Card                                                             9854\n",
       "Functional Skills Qualification                                       7167\n",
       "Security Clearance                                                    5762\n",
       "Post Graduate Certificate In Education (PGCE)                         4447\n",
       "PRINCE2  (PRojects IN Controlled Environments 2)                      3676\n",
       "Chartered Institute Of Personnel And Development (CIPD) Certified     2614\n",
       "Nurse Practitioner (APRN-CNP)                                         2038\n",
       "Name: value, dtype: int64"
      ]
     },
     "execution_count": 38,
     "metadata": {},
     "output_type": "execute_result"
    }
   ],
   "source": [
    "main_skills_df[main_skills_df['data_type'] == 'CERTIFICATIONS_NAME']['value'].value_counts()[0:10]"
   ]
  },
  {
   "cell_type": "code",
   "execution_count": 39,
   "metadata": {},
   "outputs": [
    {
     "data": {
      "text/plain": [
       "CSCS Card                                              4528\n",
       "Security Clearance                                      623\n",
       "Functional Skills Qualification                         588\n",
       "Core Domestic Gas Safety (CCN1)                         328\n",
       "Forklift Certification                                  221\n",
       "Registered Nurse (RN)                                   219\n",
       "Gas Meter Safety (MET1)                                 119\n",
       "Association Of Chartered Certified Accountants          103\n",
       "Smart Meter Installer Core (CMA1)                       100\n",
       "Meter Operation Code Of Practice Agreement (MOCOPA)      90\n",
       "Name: value, dtype: int64"
      ]
     },
     "execution_count": 39,
     "metadata": {},
     "output_type": "execute_result"
    }
   ],
   "source": [
    "clean_skills_df[clean_skills_df['data_type'] == 'CERTIFICATIONS_NAME']['value'].value_counts()[0:10]"
   ]
  }
 ],
 "metadata": {
  "kernelspec": {
   "display_name": "ppEnv",
   "language": "python",
   "name": "python3"
  },
  "language_info": {
   "codemirror_mode": {
    "name": "ipython",
    "version": 3
   },
   "file_extension": ".py",
   "mimetype": "text/x-python",
   "name": "python",
   "nbconvert_exporter": "python",
   "pygments_lexer": "ipython3",
   "version": "3.10.8 (main, Oct 21 2022, 22:22:30) [Clang 14.0.0 (clang-1400.0.29.202)]"
  },
  "orig_nbformat": 4,
  "vscode": {
   "interpreter": {
    "hash": "1dfadff6a0f00f99d54d424e18be8d9a16acc0c0d8d5c4020326c8893bd6d7f7"
   }
  }
 },
 "nbformat": 4,
 "nbformat_minor": 2
}
